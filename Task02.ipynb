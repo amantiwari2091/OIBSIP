import pandas as pd
import numpy as np
import matplotlib.pyplot as plt
import seaborn as sns
import plotly.express as px
from google.colab import drive
drive.mount("/content/gdrive")

data = pd.read_csv("/content/gdrive/MyDrive/OIBSIP/Unemployment in India.csv")
data = pd.read_csv("/content/gdrive/MyDrive/OIBSIP/Unemployment_Rate_upto_11_2020.csv") 
print(data.head())

print(data.isnull().sum())

data.columns= ["States","Date","Frequency",
               "Estimated Unemployment Rate",
               "Estimated Employed",
               "Estimated Labour Participation Rate",
               "Region","longitude","latitude"]
plt.style.use('seaborn-whitegrid')
plt.figure(figsize=(12, 10))
sns.heatmap(data.corr())
plt.show()
data.columns= ["States","Date","Frequency",
               "Estimated Unemployment Rate","Estimated Employed",
               "Estimated Labour Participation Rate","Region",
               "longitude","latitude"]

#for displaying the title above our histogram 
plt.title("Indian Unemployment in different regions of India")
# for displaying it in histogram 
sns.histplot(x="Estimated Employed", hue="Region", data=data)
plt.show()
unemployment = data[["States", "Region", "Estimated Unemployment Rate"]]

# Sunburst plots visualize hierarchical data spanning outwards radially from root to leaves
figure = px.sunburst(unemployment, path=["Region", "States"], 
                     values="Estimated Unemployment Rate", 
                     width=700, height=700, color_continuous_scale="RdY1Gn", 
                     title="Unemployment Rate in India")
# show() starts an event loop, looks for all currently active figure objects,
# and opens one or more interactive windows that display your figure or figures.
figure.show()
