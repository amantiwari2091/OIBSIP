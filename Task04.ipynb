import pandas as pd
from sklearn.model_selection import train_test_split
from sklearn.feature_extraction.text import CountVectorizer
from sklearn import svm

from google.colab import drive
drive.mount("/content/gdrive")
spam = pd.read_csv('/content/gdrive/MyDrive/OIBSIP/spam.csv',encoding='latin-1')
z = spam['v2']
y = spam["v1"]
z_train, z_test,y_train, y_test = train_test_split(z,y,test_size = 0.2)
cv = CountVectorizer()
features = cv.fit_transform(z_train)
model = svm.SVC()
model.fit(features,y_train)
features_test = cv.transform(z_test)
print("Accuracy: {}".format(model.score(features_test,y_test)))
